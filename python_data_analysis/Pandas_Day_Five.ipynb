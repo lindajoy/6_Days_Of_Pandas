{
 "cells": [
  {
   "cell_type": "code",
   "execution_count": 1,
   "metadata": {},
   "outputs": [],
   "source": [
    "import pandas as pd\n",
    "import numpy as np"
   ]
  },
  {
   "cell_type": "code",
   "execution_count": 2,
   "metadata": {},
   "outputs": [],
   "source": [
    "data=!wget http://54.72.28.201/1.0/population/1980/aged/18/?format=json"
   ]
  },
  {
   "cell_type": "code",
   "execution_count": 3,
   "metadata": {},
   "outputs": [],
   "source": [
    "finaldata=pd.read_json ('index.html?format=json')"
   ]
  },
  {
   "cell_type": "code",
   "execution_count": 4,
   "metadata": {},
   "outputs": [
    {
     "data": {
      "text/html": [
       "<div>\n",
       "<style scoped>\n",
       "    .dataframe tbody tr th:only-of-type {\n",
       "        vertical-align: middle;\n",
       "    }\n",
       "\n",
       "    .dataframe tbody tr th {\n",
       "        vertical-align: top;\n",
       "    }\n",
       "\n",
       "    .dataframe thead th {\n",
       "        text-align: right;\n",
       "    }\n",
       "</style>\n",
       "<table border=\"1\" class=\"dataframe\">\n",
       "  <thead>\n",
       "    <tr style=\"text-align: right;\">\n",
       "      <th></th>\n",
       "      <th>age</th>\n",
       "      <th>country</th>\n",
       "      <th>females</th>\n",
       "      <th>males</th>\n",
       "      <th>total</th>\n",
       "      <th>year</th>\n",
       "    </tr>\n",
       "  </thead>\n",
       "  <tbody>\n",
       "    <tr>\n",
       "      <th>0</th>\n",
       "      <td>18</td>\n",
       "      <td>Afghanistan</td>\n",
       "      <td>128443</td>\n",
       "      <td>134463</td>\n",
       "      <td>262906</td>\n",
       "      <td>1980</td>\n",
       "    </tr>\n",
       "    <tr>\n",
       "      <th>1</th>\n",
       "      <td>18</td>\n",
       "      <td>AFRICA</td>\n",
       "      <td>4742534</td>\n",
       "      <td>4798708</td>\n",
       "      <td>9541242</td>\n",
       "      <td>1980</td>\n",
       "    </tr>\n",
       "    <tr>\n",
       "      <th>2</th>\n",
       "      <td>18</td>\n",
       "      <td>Albania</td>\n",
       "      <td>29160</td>\n",
       "      <td>30565</td>\n",
       "      <td>59725</td>\n",
       "      <td>1980</td>\n",
       "    </tr>\n",
       "    <tr>\n",
       "      <th>3</th>\n",
       "      <td>18</td>\n",
       "      <td>Algeria</td>\n",
       "      <td>203168</td>\n",
       "      <td>212922</td>\n",
       "      <td>416090</td>\n",
       "      <td>1980</td>\n",
       "    </tr>\n",
       "    <tr>\n",
       "      <th>4</th>\n",
       "      <td>18</td>\n",
       "      <td>Angola</td>\n",
       "      <td>82360</td>\n",
       "      <td>81101</td>\n",
       "      <td>163461</td>\n",
       "      <td>1980</td>\n",
       "    </tr>\n",
       "  </tbody>\n",
       "</table>\n",
       "</div>"
      ],
      "text/plain": [
       "   age      country  females    males    total  year\n",
       "0   18  Afghanistan   128443   134463   262906  1980\n",
       "1   18       AFRICA  4742534  4798708  9541242  1980\n",
       "2   18      Albania    29160    30565    59725  1980\n",
       "3   18      Algeria   203168   212922   416090  1980\n",
       "4   18       Angola    82360    81101   163461  1980"
      ]
     },
     "execution_count": 4,
     "metadata": {},
     "output_type": "execute_result"
    }
   ],
   "source": [
    "finaldata.head()"
   ]
  },
  {
   "cell_type": "code",
   "execution_count": 5,
   "metadata": {},
   "outputs": [
    {
     "data": {
      "text/html": [
       "<div>\n",
       "<style scoped>\n",
       "    .dataframe tbody tr th:only-of-type {\n",
       "        vertical-align: middle;\n",
       "    }\n",
       "\n",
       "    .dataframe tbody tr th {\n",
       "        vertical-align: top;\n",
       "    }\n",
       "\n",
       "    .dataframe thead th {\n",
       "        text-align: right;\n",
       "    }\n",
       "</style>\n",
       "<table border=\"1\" class=\"dataframe\">\n",
       "  <thead>\n",
       "    <tr style=\"text-align: right;\">\n",
       "      <th></th>\n",
       "      <th>age</th>\n",
       "      <th>females</th>\n",
       "      <th>males</th>\n",
       "      <th>total</th>\n",
       "      <th>year</th>\n",
       "    </tr>\n",
       "  </thead>\n",
       "  <tbody>\n",
       "    <tr>\n",
       "      <th>count</th>\n",
       "      <td>236.0</td>\n",
       "      <td>2.360000e+02</td>\n",
       "      <td>2.360000e+02</td>\n",
       "      <td>2.360000e+02</td>\n",
       "      <td>236.0</td>\n",
       "    </tr>\n",
       "    <tr>\n",
       "      <th>mean</th>\n",
       "      <td>18.0</td>\n",
       "      <td>1.197296e+06</td>\n",
       "      <td>1.250469e+06</td>\n",
       "      <td>2.447752e+06</td>\n",
       "      <td>1980.0</td>\n",
       "    </tr>\n",
       "    <tr>\n",
       "      <th>std</th>\n",
       "      <td>0.0</td>\n",
       "      <td>4.824464e+06</td>\n",
       "      <td>5.053707e+06</td>\n",
       "      <td>9.878057e+06</td>\n",
       "      <td>0.0</td>\n",
       "    </tr>\n",
       "    <tr>\n",
       "      <th>min</th>\n",
       "      <td>18.0</td>\n",
       "      <td>5.300000e+02</td>\n",
       "      <td>5.360000e+02</td>\n",
       "      <td>1.066000e+03</td>\n",
       "      <td>1980.0</td>\n",
       "    </tr>\n",
       "    <tr>\n",
       "      <th>25%</th>\n",
       "      <td>18.0</td>\n",
       "      <td>1.044850e+04</td>\n",
       "      <td>1.197100e+04</td>\n",
       "      <td>2.219850e+04</td>\n",
       "      <td>1980.0</td>\n",
       "    </tr>\n",
       "    <tr>\n",
       "      <th>50%</th>\n",
       "      <td>18.0</td>\n",
       "      <td>5.900350e+04</td>\n",
       "      <td>5.800000e+04</td>\n",
       "      <td>1.151840e+05</td>\n",
       "      <td>1980.0</td>\n",
       "    </tr>\n",
       "    <tr>\n",
       "      <th>75%</th>\n",
       "      <td>18.0</td>\n",
       "      <td>2.657372e+05</td>\n",
       "      <td>2.683388e+05</td>\n",
       "      <td>5.348260e+05</td>\n",
       "      <td>1980.0</td>\n",
       "    </tr>\n",
       "    <tr>\n",
       "      <th>max</th>\n",
       "      <td>18.0</td>\n",
       "      <td>4.277300e+07</td>\n",
       "      <td>4.468400e+07</td>\n",
       "      <td>8.745700e+07</td>\n",
       "      <td>1980.0</td>\n",
       "    </tr>\n",
       "  </tbody>\n",
       "</table>\n",
       "</div>"
      ],
      "text/plain": [
       "         age       females         males         total    year\n",
       "count  236.0  2.360000e+02  2.360000e+02  2.360000e+02   236.0\n",
       "mean    18.0  1.197296e+06  1.250469e+06  2.447752e+06  1980.0\n",
       "std      0.0  4.824464e+06  5.053707e+06  9.878057e+06     0.0\n",
       "min     18.0  5.300000e+02  5.360000e+02  1.066000e+03  1980.0\n",
       "25%     18.0  1.044850e+04  1.197100e+04  2.219850e+04  1980.0\n",
       "50%     18.0  5.900350e+04  5.800000e+04  1.151840e+05  1980.0\n",
       "75%     18.0  2.657372e+05  2.683388e+05  5.348260e+05  1980.0\n",
       "max     18.0  4.277300e+07  4.468400e+07  8.745700e+07  1980.0"
      ]
     },
     "execution_count": 5,
     "metadata": {},
     "output_type": "execute_result"
    }
   ],
   "source": [
    "finaldata.describe()"
   ]
  },
  {
   "cell_type": "code",
   "execution_count": 6,
   "metadata": {},
   "outputs": [],
   "source": [
    "finaldata.set_index('year',inplace=True)"
   ]
  },
  {
   "cell_type": "code",
   "execution_count": 7,
   "metadata": {},
   "outputs": [
    {
     "data": {
      "text/plain": [
       "Index(['age', 'country', 'females', 'males', 'total'], dtype='object')"
      ]
     },
     "execution_count": 7,
     "metadata": {},
     "output_type": "execute_result"
    }
   ],
   "source": [
    "finaldata.columns"
   ]
  },
  {
   "cell_type": "code",
   "execution_count": 8,
   "metadata": {},
   "outputs": [
    {
     "name": "stdout",
     "output_type": "stream",
     "text": [
      "<class 'pandas.core.frame.DataFrame'>\n",
      "Int64Index: 236 entries, 1980 to 1980\n",
      "Data columns (total 5 columns):\n",
      "age        236 non-null int64\n",
      "country    236 non-null object\n",
      "females    236 non-null int64\n",
      "males      236 non-null int64\n",
      "total      236 non-null int64\n",
      "dtypes: int64(4), object(1)\n",
      "memory usage: 11.1+ KB\n"
     ]
    }
   ],
   "source": [
    "finaldata.info()"
   ]
  },
  {
   "cell_type": "code",
   "execution_count": 9,
   "metadata": {},
   "outputs": [
    {
     "data": {
      "text/plain": [
       "(236, 5)"
      ]
     },
     "execution_count": 9,
     "metadata": {},
     "output_type": "execute_result"
    }
   ],
   "source": [
    "finaldata.shape"
   ]
  },
  {
   "cell_type": "code",
   "execution_count": 10,
   "metadata": {},
   "outputs": [],
   "source": [
    "country_no=finaldata.country.unique()\n"
   ]
  },
  {
   "cell_type": "code",
   "execution_count": 11,
   "metadata": {},
   "outputs": [],
   "source": [
    "total_rows = finaldata['country'].count"
   ]
  },
  {
   "cell_type": "code",
   "execution_count": 12,
   "metadata": {},
   "outputs": [
    {
     "data": {
      "text/plain": [
       "<bound method Series.count of year\n",
       "1980               Afghanistan\n",
       "1980                    AFRICA\n",
       "1980                   Albania\n",
       "1980                   Algeria\n",
       "1980                    Angola\n",
       "1980       Antigua and Barbuda\n",
       "1980         Arab Rep of Egypt\n",
       "1980                 Argentina\n",
       "1980                   Armenia\n",
       "1980                     Aruba\n",
       "1980                      ASIA\n",
       "1980                 Australia\n",
       "1980     Australia/New Zealand\n",
       "1980                   Austria\n",
       "1980                Azerbaijan\n",
       "1980               The Bahamas\n",
       "1980                   Bahrain\n",
       "1980                Bangladesh\n",
       "1980                  Barbados\n",
       "1980                   Belarus\n",
       "1980                   Belgium\n",
       "1980                    Belize\n",
       "1980                     Benin\n",
       "1980                    Bhutan\n",
       "1980                   Bolivia\n",
       "1980    Bosnia and Herzegovina\n",
       "1980                  Botswana\n",
       "1980                    Brazil\n",
       "1980         Brunei Darussalam\n",
       "1980                  Bulgaria\n",
       "                 ...          \n",
       "1980                    Sweden\n",
       "1980               Switzerland\n",
       "1980           Syrian Arab Rep\n",
       "1980                Tajikistan\n",
       "1980                  Tanzania\n",
       "1980                  Thailand\n",
       "1980               Timor-Leste\n",
       "1980                      Togo\n",
       "1980                     Tonga\n",
       "1980       Trinidad and Tobago\n",
       "1980                   Tunisia\n",
       "1980                    Turkey\n",
       "1980              Turkmenistan\n",
       "1980                    Uganda\n",
       "1980                   Ukraine\n",
       "1980      United Arab Emirates\n",
       "1980            United Kingdom\n",
       "1980             United States\n",
       "1980         US Virgin Islands\n",
       "1980                   Uruguay\n",
       "1980                Uzbekistan\n",
       "1980                   Vanuatu\n",
       "1980                   Vietnam\n",
       "1980            Western Africa\n",
       "1980              Western Asia\n",
       "1980            Western Europe\n",
       "1980            Western Sahara\n",
       "1980                     World\n",
       "1980                    Zambia\n",
       "1980                  Zimbabwe\n",
       "Name: country, Length: 236, dtype: object>"
      ]
     },
     "execution_count": 12,
     "metadata": {},
     "output_type": "execute_result"
    }
   ],
   "source": [
    "total_rows"
   ]
  },
  {
   "cell_type": "code",
   "execution_count": 13,
   "metadata": {},
   "outputs": [],
   "source": [
    "import bokeh"
   ]
  },
  {
   "cell_type": "code",
   "execution_count": 16,
   "metadata": {},
   "outputs": [],
   "source": [
    "from bokeh.io import show\n",
    "from bokeh.plotting import figure"
   ]
  },
  {
   "cell_type": "code",
   "execution_count": 30,
   "metadata": {},
   "outputs": [],
   "source": [
    "from bokeh.models import ColumnDataSource\n",
    "source = ColumnDataSource(dict(\n",
    "    x = finaldata.females,\n",
    "    y = finaldata.males,\n",
    "    country = finaldata.country\n",
    "    ))"
   ]
  },
  {
   "cell_type": "code",
   "execution_count": 31,
   "metadata": {},
   "outputs": [
    {
     "data": {
      "text/plain": [
       "['x', 'y', 'country']"
      ]
     },
     "execution_count": 31,
     "metadata": {},
     "output_type": "execute_result"
    }
   ],
   "source": [
    "source.column_names"
   ]
  },
  {
   "cell_type": "code",
   "execution_count": 32,
   "metadata": {},
   "outputs": [
    {
     "data": {
      "text/plain": [
       "year\n",
       "1980               Afghanistan\n",
       "1980                    AFRICA\n",
       "1980                   Albania\n",
       "1980                   Algeria\n",
       "1980                    Angola\n",
       "1980       Antigua and Barbuda\n",
       "1980         Arab Rep of Egypt\n",
       "1980                 Argentina\n",
       "1980                   Armenia\n",
       "1980                     Aruba\n",
       "1980                      ASIA\n",
       "1980                 Australia\n",
       "1980     Australia/New Zealand\n",
       "1980                   Austria\n",
       "1980                Azerbaijan\n",
       "1980               The Bahamas\n",
       "1980                   Bahrain\n",
       "1980                Bangladesh\n",
       "1980                  Barbados\n",
       "1980                   Belarus\n",
       "1980                   Belgium\n",
       "1980                    Belize\n",
       "1980                     Benin\n",
       "1980                    Bhutan\n",
       "1980                   Bolivia\n",
       "1980    Bosnia and Herzegovina\n",
       "1980                  Botswana\n",
       "1980                    Brazil\n",
       "1980         Brunei Darussalam\n",
       "1980                  Bulgaria\n",
       "                 ...          \n",
       "1980                    Sweden\n",
       "1980               Switzerland\n",
       "1980           Syrian Arab Rep\n",
       "1980                Tajikistan\n",
       "1980                  Tanzania\n",
       "1980                  Thailand\n",
       "1980               Timor-Leste\n",
       "1980                      Togo\n",
       "1980                     Tonga\n",
       "1980       Trinidad and Tobago\n",
       "1980                   Tunisia\n",
       "1980                    Turkey\n",
       "1980              Turkmenistan\n",
       "1980                    Uganda\n",
       "1980                   Ukraine\n",
       "1980      United Arab Emirates\n",
       "1980            United Kingdom\n",
       "1980             United States\n",
       "1980         US Virgin Islands\n",
       "1980                   Uruguay\n",
       "1980                Uzbekistan\n",
       "1980                   Vanuatu\n",
       "1980                   Vietnam\n",
       "1980            Western Africa\n",
       "1980              Western Asia\n",
       "1980            Western Europe\n",
       "1980            Western Sahara\n",
       "1980                     World\n",
       "1980                    Zambia\n",
       "1980                  Zimbabwe\n",
       "Name: country, Length: 236, dtype: object"
      ]
     },
     "execution_count": 32,
     "metadata": {},
     "output_type": "execute_result"
    }
   ],
   "source": [
    "source.data['country']"
   ]
  },
  {
   "cell_type": "code",
   "execution_count": 33,
   "metadata": {},
   "outputs": [],
   "source": [
    "PLOT_OPTS = dict(\n",
    "     height = 200, x_axis_type='log',\n",
    "     x_range = (100,100000),y_range=(0,100),\n",
    ")"
   ]
  },
  {
   "cell_type": "code",
   "execution_count": 34,
   "metadata": {},
   "outputs": [],
   "source": [
    "from bokeh.models import HoverTool"
   ]
  },
  {
   "cell_type": "code",
   "execution_count": 35,
   "metadata": {},
   "outputs": [],
   "source": [
    "hover = HoverTool(tooltips = '@country')\n",
    "p = figure(tools =[hover],**PLOT_OPTS)"
   ]
  },
  {
   "cell_type": "code",
   "execution_count": 36,
   "metadata": {},
   "outputs": [],
   "source": [
    "p.circle(x='x',y='y',source=source)\n",
    "show(p)"
   ]
  },
  {
   "cell_type": "code",
   "execution_count": null,
   "metadata": {},
   "outputs": [],
   "source": []
  }
 ],
 "metadata": {
  "kernelspec": {
   "display_name": "Python 3",
   "language": "python",
   "name": "python3"
  },
  "language_info": {
   "codemirror_mode": {
    "name": "ipython",
    "version": 3
   },
   "file_extension": ".py",
   "mimetype": "text/x-python",
   "name": "python",
   "nbconvert_exporter": "python",
   "pygments_lexer": "ipython3",
   "version": "3.7.3"
  }
 },
 "nbformat": 4,
 "nbformat_minor": 2
}
